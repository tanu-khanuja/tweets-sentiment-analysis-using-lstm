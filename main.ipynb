{
 "cells": [
  {
   "cell_type": "markdown",
   "metadata": {},
   "source": [
    "## Load Dataset"
   ]
  },
  {
   "cell_type": "code",
   "execution_count": 127,
   "metadata": {},
   "outputs": [
    {
     "name": "stdout",
     "output_type": "stream",
     "text": [
      "tensor([1.], device='mps:0')\n"
     ]
    }
   ],
   "source": [
    "# Import dependencies\n",
    "\n",
    "from typing import List, Set, Dict\n",
    "import pandas as pd \n",
    "import numpy as np\n",
    "import re\n",
    "import nltk\n",
    "from nltk.corpus import stopwords\n",
    "import torch \n",
    "from torch.utils.data import random_split, TensorDataset, DataLoader\n",
    "import torch.nn as nn\n",
    "from torch.optim.lr_scheduler import StepLR\n",
    "from sklearn.metrics import roc_auc_score, recall_score, roc_curve, precision_score, f1_score, confusion_matrix, accuracy_score\n",
    "from matplotlib import pyplot as plt\n",
    "import seaborn as sns; sns.set_theme()\n",
    "\n",
    "if torch.backends.mps.is_available():\n",
    "    mps_device=torch.device('mps')\n",
    "    x=torch.ones(1,device=mps_device)\n",
    "    print(x)\n",
    "else:\n",
    "    print('mps device not found')\n"
   ]
  },
  {
   "cell_type": "code",
   "execution_count": 2,
   "metadata": {},
   "outputs": [
    {
     "name": "stdout",
     "output_type": "stream",
     "text": [
      " target value counts: target\n",
      "0    800000\n",
      "4    800000\n",
      "Name: count, dtype: int64\n",
      "mapped target value counts: target\n",
      "0    800000\n",
      "1    800000\n",
      "Name: count, dtype: int64\n"
     ]
    }
   ],
   "source": [
    "# Load dataset\n",
    "from sklearn.model_selection import train_test_split\n",
    "df = pd.read_csv('training.1600000.processed.noemoticon.csv', encoding='latin-1', header=None)\n",
    "df.columns = ['target', 'id', 'date', 'flag', 'user', 'text']  # Assign column names\n",
    "df = df[['target', 'text']]  # Keep relevant columns only\n",
    "\n",
    "# Target values\n",
    "print(f\" target value counts: {df['target'].value_counts()}\")\n",
    "\n",
    "# Map two classes with 0 and 1\n",
    "df['target']= df['target'].replace({0:0, 4:1})\n",
    "print(f\"mapped target value counts: {df['target'].value_counts()}\")"
   ]
  },
  {
   "cell_type": "markdown",
   "metadata": {},
   "source": [
    "## Data cleaning"
   ]
  },
  {
   "cell_type": "code",
   "execution_count": 3,
   "metadata": {},
   "outputs": [
    {
     "name": "stdout",
     "output_type": "stream",
     "text": [
      "0    @switchfoot http://twitpic.com/2y1zl - Awww, t...\n",
      "1    is upset that he can't update his Facebook by ...\n",
      "2    @Kenichan I dived many times for the ball. Man...\n",
      "3      my whole body feels itchy and like its on fire \n",
      "4    @nationwideclass no, it's not behaving at all....\n",
      "Name: text, dtype: object\n"
     ]
    }
   ],
   "source": [
    "print(df['text'][:5]) # Top 5 tweets"
   ]
  },
  {
   "cell_type": "markdown",
   "metadata": {},
   "source": [
    "What are irrelevant expressions in tweets? \n",
    "\n",
    "- Tags with @ \n",
    "- Hashtags\n",
    "- Links\n",
    "- Punctuations\n",
    "- Stopwords (which do not carry any significant meaning) like 'is' 'and' 'the' etc. "
   ]
  },
  {
   "cell_type": "code",
   "execution_count": 4,
   "metadata": {},
   "outputs": [
    {
     "name": "stderr",
     "output_type": "stream",
     "text": [
      "[nltk_data] Downloading package stopwords to\n",
      "[nltk_data]     /Users/tanukhanuja/nltk_data...\n",
      "[nltk_data]   Package stopwords is already up-to-date!\n"
     ]
    }
   ],
   "source": [
    "# Remove irrelevant expressions from text\n",
    "\n",
    "import re\n",
    "import nltk  # To download predefined list of stopwords \n",
    "from nltk.corpus import stopwords \n",
    "\n",
    "nltk.download('stopwords')\n",
    "stop_words = set(stopwords.words('english'))\n",
    "\n",
    "def clean_text(text: str)-> str:\n",
    "    text = text.lower()  # Lowercase\n",
    "    text = re.sub(r'@\\w+', '', text)  # Remove tags with @ i.e. mentions\n",
    "    # text = re.sub(r'#', '', text)  # Remove hashtags\n",
    "    text = re.sub(r'http\\S+|www\\S+|https\\S+', '', text, flags=re.MULTILINE) # Remove links\n",
    "    text = re.sub(r'[^\\w\\s]', '', text)  # Remove punctuations (all other than words and space chars)\n",
    "    text = \" \".join([word for word in text.split() if word not in stop_words])  # Remove stop words\n",
    "    return text\n",
    "\n",
    "df['text']= df['text'].apply(clean_text)  # Apply regex on text col\n",
    "# isinstance(df['text'][0], str) # To check if our type attribute is correct"
   ]
  },
  {
   "cell_type": "markdown",
   "metadata": {},
   "source": [
    "## Tokenization "
   ]
  },
  {
   "cell_type": "code",
   "execution_count": 5,
   "metadata": {},
   "outputs": [
    {
     "name": "stdout",
     "output_type": "stream",
     "text": [
      "   target                                               text  \\\n",
      "0       0      thats bummer shoulda got david carr third day   \n",
      "1       0  upset cant update facebook texting might cry r...   \n",
      "2       0  dived many times ball managed save 50 rest go ...   \n",
      "\n",
      "                                              tokens  \n",
      "0  [thats, bummer, shoulda, got, david, carr, thi...  \n",
      "1  [upset, cant, update, facebook, texting, might...  \n",
      "2  [dived, many, times, ball, managed, save, 50, ...  \n"
     ]
    }
   ],
   "source": [
    "# Define a token function\n",
    "def tokenize(text:str) -> List[str]:\n",
    "    return text.split()  # Split the sentences at any whitespaces (default)\n",
    "\n",
    "df['tokens'] = df['text'].apply(tokenize) # Create a new column of tokens list\n",
    "print(df.head(3))"
   ]
  },
  {
   "cell_type": "markdown",
   "metadata": {},
   "source": [
    "## Vocabulary creation"
   ]
  },
  {
   "cell_type": "code",
   "execution_count": 6,
   "metadata": {},
   "outputs": [
    {
     "name": "stdout",
     "output_type": "stream",
     "text": [
      " Vocab list length: 447915\n"
     ]
    }
   ],
   "source": [
    "unique_tokens:Set[str] = set([token for tokens in df['tokens'] for token in tokens]) # Create a set of unique tokens\n",
    "special_tokens = [\"<pad>\", \"<unk>\"] # Tokens to set fix length of sequences and to represent words not present in unique token list(vocabulary)\n",
    "vocab: Dict[str, int] = {word: i for i, word in enumerate(special_tokens+list(unique_tokens))} # Assign token id to unique tokens \n",
    "\n",
    "print(f\" Vocab list length: {len(vocab.items())}\")"
   ]
  },
  {
   "cell_type": "code",
   "execution_count": 7,
   "metadata": {},
   "outputs": [],
   "source": [
    "# Create a new column of encoded token lists for each row based on vocab id\n",
    "\n",
    "def encode_tokens(tokens: List[str], vocab: Dict[str, int])-> List[int]:\n",
    "    return [vocab.get(word, vocab['<unk>']) for word in tokens] \n",
    "\n",
    "df['tokens_id_encoded'] = [encode_tokens(tokens, vocab) for tokens in df['tokens']]"
   ]
  },
  {
   "cell_type": "code",
   "execution_count": 8,
   "metadata": {},
   "outputs": [
    {
     "name": "stdout",
     "output_type": "stream",
     "text": [
      "quantile=np.float64(15.0)\n"
     ]
    }
   ],
   "source": [
    "l: List[int] = [len(d) for d in df['tokens_id_encoded']] # Lengths of each token\n",
    "quantile = np.quantile(np.array(l), 0.95) # 95% of tokens have length under this\n",
    "print(f\"{quantile=}\")"
   ]
  },
  {
   "cell_type": "markdown",
   "metadata": {},
   "source": [
    "- We can see that the encoded token are of different lengths due to different tweet lengths. But when we feed these tokens to NN, the shape of their tensors should be same. For this we perform padding of 0s on the tokens to set a fix length to each tensor.\n",
    "\n",
    "- Here we will set:\n",
    "  - fix len of a token is 15.\n",
    "  - If sentence is short, add padding tokens to match the fix len.\n",
    "  - If sentence is long, truncate extra tokens to fix len."
   ]
  },
  {
   "cell_type": "markdown",
   "metadata": {},
   "source": [
    "## Padding"
   ]
  },
  {
   "cell_type": "code",
   "execution_count": 9,
   "metadata": {},
   "outputs": [],
   "source": [
    "def padding(encoded_token: List[int], fix_len: int = 25) -> List[int]:\n",
    "        \"\"\" \n",
    "        Add paddings to encoded_tokens to set a fix length of each token lists to fix_len.\n",
    "        \"\"\"\n",
    "        if len(encoded_token) < fix_len:\n",
    "            padded_token = encoded_token + [vocab['<pad>']]*(fix_len-len(encoded_token))\n",
    "        else:\n",
    "            padded_token = encoded_token[:fix_len]\n",
    "        return padded_token\n",
    "\n",
    "df['padded_tokens'] = df['tokens_id_encoded'].apply(padding)"
   ]
  },
  {
   "cell_type": "code",
   "execution_count": 10,
   "metadata": {},
   "outputs": [
    {
     "name": "stdout",
     "output_type": "stream",
     "text": [
      "input_tensor.shape=torch.Size([1600000, 25])\n",
      "output_tensor.shape=torch.Size([1600000, 1])\n"
     ]
    }
   ],
   "source": [
    "# Convert the padded_tokens and target columns into PyTorch tensor with 64-bit integer type (torch.long), ready for model input.\n",
    "input_tensor = torch.tensor(df['padded_tokens'].tolist(), dtype= torch.long) # Convert shape of tensor to (sample_size, seq_len)\n",
    "output_tensor = torch.tensor(df['target'].tolist(), dtype=torch.float32).unsqueeze(-1) # Convert shape of output tensor to (sample_size,1)\n",
    "\n",
    "print(f\"{input_tensor.shape=}\")\n",
    "print(f\"{output_tensor.shape=}\")"
   ]
  },
  {
   "cell_type": "markdown",
   "metadata": {},
   "source": [
    "## Split data to train, val, test"
   ]
  },
  {
   "cell_type": "code",
   "execution_count": 11,
   "metadata": {},
   "outputs": [],
   "source": [
    "dataset = TensorDataset(input_tensor, output_tensor) # Wraps input and output tensors into tuples (input_tensor[i], output_tensor[i])\n",
    "\n",
    "# Define split sizes\n",
    "total_samples = len(dataset)\n",
    "train_len = int(0.8*total_samples)\n",
    "val_len = int(0.1*total_samples)\n",
    "test_len = total_samples-train_len-val_len\n",
    "\n",
    "# Split dataset\n",
    "train_dataset, val_dataset, test_dataset = random_split(dataset, [train_len, val_len, test_len])"
   ]
  },
  {
   "cell_type": "markdown",
   "metadata": {},
   "source": [
    "## Create dataloaders"
   ]
  },
  {
   "cell_type": "code",
   "execution_count": 12,
   "metadata": {},
   "outputs": [],
   "source": [
    "batch_size = 1024\n",
    "train_loader = DataLoader(train_dataset, batch_size=batch_size, shuffle=True)\n",
    "val_loader = DataLoader(val_dataset, batch_size=batch_size, shuffle=False)\n",
    "test_loader = DataLoader(test_dataset, batch_size=batch_size,shuffle=False)"
   ]
  },
  {
   "cell_type": "code",
   "execution_count": 13,
   "metadata": {},
   "outputs": [
    {
     "name": "stdout",
     "output_type": "stream",
     "text": [
      "x.shape=torch.Size([1024, 25])\n",
      "y.shape=torch.Size([1024, 1])\n"
     ]
    }
   ],
   "source": [
    "for x, y in train_loader:\n",
    "    print(f\"{x.shape=}\")  #(batch_size, seq_len)\n",
    "    print(f\"{y.shape=}\")  #(batch_size,1)\n",
    "    break"
   ]
  },
  {
   "cell_type": "markdown",
   "metadata": {},
   "source": [
    "## LSTM model "
   ]
  },
  {
   "cell_type": "markdown",
   "metadata": {},
   "source": [
    "- We have training tensors in batch sizes. But the tensor values are nothing but indices of vocab.\n",
    "  \n",
    "- These indices needs to be converted to embeddings i.e. dense semantic vectors. This is done by embedding method in nn module.\n",
    "  \n",
    "- nn.Embedding will first create the matrix of vectors for each vocabulary. We need to give common size of the embedding vectors i.e. embedding_dim.\n",
    "  \n",
    "- This will convert the input tensor dimension to (batch_size, seq_len, embedding_dim)."
   ]
  },
  {
   "cell_type": "code",
   "execution_count": 14,
   "metadata": {},
   "outputs": [],
   "source": [
    "# Initialize derived sequential class of nn layer base class\n",
    "\n",
    "class LSTMModel(nn.Module):\n",
    "    def __init__(self, vocab_size: int, embedding_dim: int, hidden_dim: int, output_dim: int, dropout=0.5) -> None:\n",
    "        \"\"\" \n",
    "        vocab_size: To define number of rows in embedding matrix.\n",
    "        embedding_dim: Size of embedding vector\n",
    "        hidden_dim: Number of features in LSTM hidden state.\n",
    "        output_dim: Number of classes (1 for binary/regression)\n",
    "        num_layers: Number of LSTM layers.\n",
    "        dropout: dropout rate applied between LSTM layers(defualt is no dropout)\n",
    "        \"\"\"\n",
    "        super(LSTMModel, self).__init__()\n",
    "\n",
    "        self.embeddings = nn.Embedding(num_embeddings=vocab_size, \n",
    "                                       embedding_dim=embedding_dim, \n",
    "                                       padding_idx=0)  # Convert token indices to embeddings.\n",
    "        self.dropouts = nn.Dropout()\n",
    "        \n",
    "        self.lstm = nn.LSTM(input_size=embedding_dim,\n",
    "                            hidden_size=hidden_dim,\n",
    "                            batch_first = True,\n",
    "                            )  # Process sequence of embeddings.\n",
    "                               # batch_first ensures the shape of input as (batch_size, seq_len, embedding_dim)\n",
    "        \n",
    "        self.fc = nn.Linear(hidden_dim, output_dim) # Fully connected layer to map hidden state of lstm layer to output.\n",
    "        self.sigmoid = nn.Sigmoid() # For binary classification\n",
    "\n",
    "    def forward(self, x):\n",
    "        \"\"\" \n",
    "        x: Tensor of shape (batch_size, seq_len) (before embedding)\n",
    "        \"\"\"\n",
    "        embedded = self.embeddings(x) # Convert tokens indices to embeddings\n",
    "        dropouts = self.dropouts(embedded)\n",
    "        lstm_out,_ = self.lstm(dropouts) # Pass embedding through lstm\n",
    "        output = self.fc(lstm_out[:,-1]) # Use final hidden state from last lstm layer\n",
    "\n",
    "        return self.sigmoid(output)\n",
    "\n"
   ]
  },
  {
   "cell_type": "code",
   "execution_count": 15,
   "metadata": {},
   "outputs": [
    {
     "name": "stdout",
     "output_type": "stream",
     "text": [
      "LSTMModel(\n",
      "  (embeddings): Embedding(447915, 300, padding_idx=0)\n",
      "  (dropouts): Dropout(p=0.5, inplace=False)\n",
      "  (lstm): LSTM(300, 300, batch_first=True)\n",
      "  (fc): Linear(in_features=300, out_features=1, bias=True)\n",
      "  (sigmoid): Sigmoid()\n",
      ")\n"
     ]
    }
   ],
   "source": [
    "# Train model\n",
    "\n",
    "vocab_size = len(vocab)\n",
    "embedding_dim = 300\n",
    "hidden_dim = 300\n",
    "output_dim = 1\n",
    "\n",
    "model = LSTMModel(vocab_size, embedding_dim, hidden_dim, output_dim)\n",
    "print(model)"
   ]
  },
  {
   "cell_type": "code",
   "execution_count": 16,
   "metadata": {},
   "outputs": [
    {
     "name": "stdout",
     "output_type": "stream",
     "text": [
      "Epoch 1/10, Average Loss: 0.5217, Epoch Loss: 0.4450\n",
      "Epoch 1/10, Average validation loss: 0.4846, Epoch val loss: 0.5164\n",
      "Epoch 2/10, Average Loss: 0.4733, Epoch Loss: 0.4666\n",
      "Epoch 2/10, Average validation loss: 0.4657, Epoch val loss: 0.5156\n",
      "Epoch 3/10, Average Loss: 0.4554, Epoch Loss: 0.4671\n",
      "Epoch 3/10, Average validation loss: 0.4494, Epoch val loss: 0.5061\n",
      "Epoch 4/10, Average Loss: 0.4422, Epoch Loss: 0.4676\n",
      "Epoch 4/10, Average validation loss: 0.4416, Epoch val loss: 0.4792\n",
      "Epoch 5/10, Average Loss: 0.4319, Epoch Loss: 0.4141\n",
      "Epoch 5/10, Average validation loss: 0.4479, Epoch val loss: 0.5027\n",
      "Epoch 6/10, Average Loss: 0.4230, Epoch Loss: 0.4077\n",
      "Epoch 6/10, Average validation loss: 0.4349, Epoch val loss: 0.4747\n",
      "Epoch 7/10, Average Loss: 0.4151, Epoch Loss: 0.3973\n",
      "Epoch 7/10, Average validation loss: 0.4319, Epoch val loss: 0.4736\n",
      "Epoch 8/10, Average Loss: 0.4086, Epoch Loss: 0.4164\n",
      "Epoch 8/10, Average validation loss: 0.4320, Epoch val loss: 0.4755\n",
      "Epoch 9/10, Average Loss: 0.4016, Epoch Loss: 0.4042\n",
      "Epoch 9/10, Average validation loss: 0.4398, Epoch val loss: 0.4903\n",
      "Epoch 10/10, Average Loss: 0.3952, Epoch Loss: 0.3986\n",
      "Epoch 10/10, Average validation loss: 0.4368, Epoch val loss: 0.4937\n"
     ]
    }
   ],
   "source": [
    "\n",
    "criterion = nn.BCELoss()  # Binary Cross Entropy Loss\n",
    "optimizer = torch.optim.Adam(model.parameters(), lr=0.001)\n",
    "# scheduler = StepLR(optimizer, step_size=3, gamma=0.5) # Reduce LR by 0. every 5 epochs\n",
    "\n",
    "\n",
    "num_epochs = 10\n",
    "\n",
    "for epoch in range(num_epochs):\n",
    "    total_loss = 0\n",
    "    model.train()\n",
    "    for texts, labels in train_loader:\n",
    "        # print(texts.shape)\n",
    "        texts, labels = texts.to(dtype=torch.long), labels.to(dtype=torch.float32)\n",
    "        optimizer.zero_grad()\n",
    "        outputs = model(texts)\n",
    "        # print(outputs.shape)\n",
    "        loss = criterion(outputs, labels)\n",
    "        loss.backward()\n",
    "        optimizer.step()\n",
    "\n",
    "        total_loss += loss.item()\n",
    "    # scheduler.step()\n",
    "    avg_loss = total_loss/len(train_loader)\n",
    "    print(f\"Epoch {epoch+1}/{num_epochs}, Average Loss: {avg_loss:.4f}, Epoch Loss: {loss.item():.4f}\")\n",
    "\n",
    "    # Validation loop\n",
    "    model.eval()\n",
    "    with torch.no_grad():\n",
    "        val_loss=0\n",
    "        for texts, labels in val_loader:\n",
    "            texts, labels = texts.to(dtype= torch.long), labels.to(dtype=torch.float32)\n",
    "            outputs = model(texts)\n",
    "            loss = criterion(outputs,labels)\n",
    "            val_loss +=loss.item()\n",
    "    avg_val_loss = val_loss/len(val_loader)\n",
    "    print(f\"Epoch {epoch+1}/{num_epochs}, Average validation loss:  {avg_val_loss:.4f}, Epoch val loss: {loss.item():.4f}\") "
   ]
  },
  {
   "cell_type": "code",
   "execution_count": 145,
   "metadata": {},
   "outputs": [
    {
     "name": "stdout",
     "output_type": "stream",
     "text": [
      "ROC_AUC score: 0.8834335105596592\n",
      "Recall: 0.7901172822526195\n",
      "Precision: 0.8078132590187406\n",
      "F1 score: 0.7988672852772369\n",
      "Accuracy: 0.801125\n"
     ]
    },
    {
     "data": {
      "image/png": "[encoded data removed]",
      "text/plain": [
       "<Figure size 1000x400 with 3 Axes>"
      ]
     },
     "metadata": {},
     "output_type": "display_data"
    }
   ],
   "source": [
    "# Metrics calculations using test data\n",
    "prediction_probs = []\n",
    "prediction_list = []\n",
    "true_labels = []\n",
    "\n",
    "model.eval()  # Set model on evaluation mode first\n",
    "with torch.no_grad():\n",
    "    for texts,labels in test_loader:\n",
    "        true_labels.extend(labels.squeeze().detach().numpy()) # Convert tensor to numpy array using detach().numpy()\n",
    "\n",
    "        outputs = model(texts)\n",
    "        prediction_probs.extend(outputs.squeeze().detach().numpy())\n",
    "        \n",
    "        predicted = (outputs>0.5).float()\n",
    "        prediction_list.extend(predicted.squeeze().detach().numpy())\n",
    "\n",
    "# Calculate and print all metrics\n",
    "roc_auc = roc_auc_score(true_labels,prediction_probs) \n",
    "recall = recall_score(true_labels, prediction_list)\n",
    "precision = precision_score(true_labels, prediction_list)\n",
    "f1 = f1_score(true_labels, prediction_list)\n",
    "accuracy = accuracy_score(true_labels, prediction_list)\n",
    "print(f\"ROC_AUC score: {roc_auc.item()}\\nRecall: {recall.item()}\\nPrecision: {precision.item()}\\nF1 score: {f1.item()}\\nAccuracy: {accuracy}\")\n",
    "\n",
    "# Create confusion matrix and roc-auc curve\n",
    "fig, (ax1, ax2) = plt.subplots(1, 2, figsize=(10, 4)) # Create a single figure with 1 row and 2 columns\n",
    "\n",
    "# Plot confusion matrix on the left subplot (ax1)\n",
    "cnf_matrix = confusion_matrix(true_labels, prediction_list)\n",
    "sns.heatmap(cnf_matrix, cmap='Blues', annot=True, fmt='d', ax=ax1)\n",
    "ax1.set_xlabel('Predicted labels')\n",
    "ax1.set_ylabel('True labels')\n",
    "ax1.set_title('Confusion Matrix')\n",
    "\n",
    "# Plot ROC-AUC curve on the right subplot (ax2)\n",
    "fpr, tpr, thresholds = roc_curve(true_labels, prediction_probs)\n",
    "ax2.plot(fpr, tpr, color='navy', lw=2, label=f'AUC score: {roc_auc:.3f}')\n",
    "ax2.plot([0, 1], [0, 1], color='red', linestyle='--', lw=0.7, label='Random Guess')\n",
    "ax2.set_xlabel('False Positive Rate')\n",
    "ax2.set_ylabel('True Positive Rate')\n",
    "ax2.set_title('ROC Curve')\n",
    "ax2.legend(loc='lower right')\n",
    "\n",
    "plt.tight_layout()  # Adjust spacing between subplots\n",
    "plt.show()"
   ]
  },
  {
   "cell_type": "code",
   "execution_count": 182,
   "metadata": {},
   "outputs": [],
   "source": [
    "def predict_sentiment(tweet: str)-> str:\n",
    "    cleaned_tweet = clean_text(tweet) # Clean tweet using regex func\n",
    "    tokens = tokenize(cleaned_tweet)  # Tokenize\n",
    "    encoded_tokens = encode_tokens(tokens, vocab) # Encode on vocab ids\n",
    "    padded_tokens = padding(encoded_tokens, fix_len=25) # Pad the seq\n",
    "    input_tensor = torch.tensor([padded_tokens], dtype=torch.long) # Convert to tensor\n",
    "\n",
    "    model.eval() # Set the model to evaluation mode\n",
    "    with torch.no_grad(): # Predict\n",
    "        output = model(input_tensor)\n",
    "        prediction = output.item()  # Get the prediction probability\n",
    "\n",
    "    # Determine if the tweet is positive or negative\n",
    "    threshold = 0.5 \n",
    "    if prediction >= threshold:\n",
    "        sentiment = \"Positive\"\n",
    "    else:\n",
    "        sentiment = \"Negative\"\n",
    "\n",
    "    print(f\"tweet: {tweet}, Predicted sentiment: {sentiment} (Probability: {prediction:.4f})\")\n"
   ]
  },
  {
   "cell_type": "code",
   "execution_count": 185,
   "metadata": {},
   "outputs": [
    {
     "name": "stdout",
     "output_type": "stream",
     "text": [
      "tweet: I absolutely love this product! It has made my life so much easier. Highly recommend it!, Predicted sentiment: Positive (Probability: 0.9886)\n",
      "tweet: The service at this restaurant was amazing. The staff was friendly, and the food was delicious!, Predicted sentiment: Positive (Probability: 0.9846)\n",
      "tweet: I'm really disappointed with the customer service. They were rude and unhelpful., Predicted sentiment: Negative (Probability: 0.0049)\n",
      "tweet: The food was terrible, and the place was dirty. I wouldn't recommend it to anyone., Predicted sentiment: Negative (Probability: 0.1202)\n",
      "tweet: This is exactly how I wanted to spend my weekend—fixing someone else's mistakes., Predicted sentiment: Negative (Probability: 0.1884)\n",
      "tweet: The weather is perfect... if you enjoy being drenched in rain., Predicted sentiment: Positive (Probability: 0.5880)\n",
      "tweet: This is exactly how I wanted to spend my weekend—fixing someone else's mistakes., Predicted sentiment: Negative (Probability: 0.1884)\n",
      "tweet: Oh great, another delay. Just what I needed today!, Predicted sentiment: Negative (Probability: 0.0833)\n",
      "tweet: Wow, this product is amazing... said no one ever., Predicted sentiment: Positive (Probability: 0.9084)\n",
      "tweet: I love waiting in line for hours. Such a fantastic experience!, Predicted sentiment: Positive (Probability: 0.9752)\n"
     ]
    }
   ],
   "source": [
    "tweets = [\n",
    "    \"I absolutely love this product! It has made my life so much easier. Highly recommend it!\",\n",
    "    \"The service at this restaurant was amazing. The staff was friendly, and the food was delicious!\",\n",
    "    \"I'm really disappointed with the customer service. They were rude and unhelpful.\",\n",
    "    \"The food was terrible, and the place was dirty. I wouldn't recommend it to anyone.\",\n",
    "    \"This is exactly how I wanted to spend my weekend—fixing someone else's mistakes.\",\n",
    "    \"The weather is perfect... if you enjoy being drenched in rain.\",\n",
    "    \"This is exactly how I wanted to spend my weekend—fixing someone else's mistakes.\",\n",
    "    \"Oh great, another delay. Just what I needed today!\",\n",
    "    \"Wow, this product is amazing... said no one ever.\",\n",
    "    \"I love waiting in line for hours. Such a fantastic experience!\"\n",
    "]\n",
    "\n",
    "sentiment = {}\n",
    "for tweet in tweets:\n",
    "    sentiment[tweet]= predict_sentiment(tweet)"
   ]
  }
 ],
 "metadata": {
  "kernelspec": {
   "display_name": "libraries",
   "language": "python",
   "name": "python3"
  },
  "language_info": {
   "codemirror_mode": {
    "name": "ipython",
    "version": 3
   },
   "file_extension": ".py",
   "mimetype": "text/x-python",
   "name": "python",
   "nbconvert_exporter": "python",
   "pygments_lexer": "ipython3",
   "version": "3.12.5"
  }
 },
 "nbformat": 4,
 "nbformat_minor": 2
}
